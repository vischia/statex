{
 "cells": [
  {
   "cell_type": "markdown",
   "metadata": {},
   "source": [
    "# Coverage for a binomial test:\n",
    "## Clopper--Pearson vs Gaussian approximation\n",
    "\n",
    "We want to check for coverage in case of confidence intervals for a binomial test.\n",
    "\n"
   ]
  },
  {
   "cell_type": "code",
   "execution_count": 13,
   "metadata": {},
   "outputs": [],
   "source": [
    "import os                                                                                                                                                                                       \n",
    "import sys                                                                                                                                                                                      \n",
    "import numpy as np                                                                                                                                                                              \n",
    "import scipy.stats as ss                                                                                                                                                                        \n",
    "import matplotlib.pyplot as plt                                                                                                                                                                 \n",
    "from math import sqrt                                                                                                                                                                           \n",
    "#from statsmodels.stats.proportion import proportion_confint                                                                                                                                     \n",
    "from itertools import zip_longest                                                                                                                                                               \n",
    "from scipy.optimize import bisect, root                                                                                                                                                         \n",
    "                      \n",
    "                         \n",
    "# Functions in python and in R\n",
    "# R qxxx = python .ppf()                                                                                                                                                                       \n",
    "# R pxxx = python .cdf()                                                                                                                                                                       \n",
    "# R dxxx = python .pmf()/.pdf() (I think)                                                                                                                                                             \n",
    "                         "
   ]
  },
  {
   "cell_type": "markdown",
   "metadata": {},
   "source": [
    "First we define the function that computes coverage in the Gaussian approximation"
   ]
  },
  {
   "cell_type": "code",
   "execution_count": 2,
   "metadata": {},
   "outputs": [
    {
     "name": "stdout",
     "output_type": "stream",
     "text": [
      "0.9481179791264716\n"
     ]
    }
   ],
   "source": [
    "                                                                                                                                                                                               \n",
    "def cover_gauss(p,n,conf_level):                                                                                                                                                                             \n",
    "    if not (0 <= p and p <= 1):                                                                                                                                                                 \n",
    "        sys.exit()                                                                                                                                                                              \n",
    "    x = np.array(range(0, n))                                                                                                                                                                   \n",
    "    fpx = ss.binom.pmf(x, n, p)                                                                                                                                                                 \n",
    "    phat = x / n                                                                                                                                                                                \n",
    "    crit_val = ss.norm.ppf((1 + conf_level) / 2)                                                                                                                                                \n",
    "    low = [iphat - crit_val * sqrt(iphat * (1 - iphat) / n) for iphat in phat]                                                                                                                  \n",
    "    hig = [iphat + crit_val * sqrt(iphat * (1 - iphat) / n) for iphat in phat]                                                                                                                  \n",
    "    inies = [ int(ilow <= p and p <= ihig) for ilow, ihig in zip_longest(low, hig) ] \n",
    "    return sum(inies * fpx)                                                                                                                                                                     \n",
    "\n",
    "# Let's just test it\n",
    "print(cover_gauss(0.6, 100, 0.95))                                                                                                                                                                         \n",
    "               "
   ]
  },
  {
   "cell_type": "markdown",
   "metadata": {},
   "source": [
    "...and the one that computes coverage with the Clopper-Pearson intervals"
   ]
  },
  {
   "cell_type": "code",
   "execution_count": 16,
   "metadata": {},
   "outputs": [
    {
     "name": "stdout",
     "output_type": "stream",
     "text": [
      "0.851896803463454\n"
     ]
    }
   ],
   "source": [
    "def cover_clopper(p, n, conf_level):                                                                                                                                                                                                                                   \n",
    "    if not (0 <= p and p <= 1):                                                                                                                                                                                                                         \n",
    "        sys.exit()                                                                                                                                                                                                                                      \n",
    "    x = np.array(range(0, n))                                                                                                                                                                                                                         \n",
    "    fpx = ss.binom.pmf(x, n, p)                                                                                                                                                                                                                                                                                                                                                                                                                           \n",
    "    #print(proportion_confint(np.array(range(0,n)), n, alpha=conf_level, method=\"beta\"))\n",
    "    # Initially I did this, horribly not working\n",
    "    #low = [ ss.beta.ppf(conf_level/2, ix, n-ix +1) for ix in x]                                                                                                                                                                                        \n",
    "    #hig = [ ss.beta.ppf(1-conf_level/2, ix+1, n-ix) for ix in x]                                                                                                                                                                                       \n",
    "\n",
    "    # This is the correct way, mimicking the R code below\n",
    "    # although it still has issues at large p\n",
    "    #low = [ (ss.beta.ppf((1-conf_level)/2., ix, n-ix+1)   )  if ix != 0 else 0 for ix in x]                                                                                                                                                              \n",
    "    #hig = [ (ss.beta.isf((1-conf_level/2.), ix+1, n-ix ))  if ix != n else 1 for ix in x]                                                                                                                                                              \n",
    "    low = [ (ss.beta.ppf((1-conf_level)/2., ix, n-ix+1)   )  if ix != 0 else 0 for ix in x]                                                                                                                                                              \n",
    "    hig = [ (ss.beta.ppf(1-(1-conf_level)/2., ix+1, n-ix ))  if ix != n else 1 for ix in x]                                                                                                                                                              \n",
    "\n",
    "    inies = [ int(ilow <= p and p <= ihig) for ilow, ihig in zip_longest(low, hig) ]                                                                                                                                                                                                                                                                                                                                                                                                        \n",
    "    return sum(inies * fpx)                                                                                                                                                                                                                             \n",
    "                           \n",
    "# Let's test it\n",
    "print(cover_clopper(0.98, 100, 0.95))"
   ]
  },
  {
   "cell_type": "markdown",
   "metadata": {},
   "source": [
    "OK, now produce the coverage plot"
   ]
  },
  {
   "cell_type": "code",
   "execution_count": 17,
   "metadata": {},
   "outputs": [
    {
     "data": {
      "image/png": "[encoded data removed]",
      "text/plain": [
       "<Figure size 432x288 with 1 Axes>"
      ]
     },
     "metadata": {
      "needs_background": "light"
     },
     "output_type": "display_data"
    }
   ],
   "source": [
    "p= np.array(np.arange(0.01, 0.99, 0.01)) \n",
    "n=200                                                                                                                                                                                         \n",
    "clevel=0.95                                                                                                                                                                                 \n",
    "       \n",
    "    \n",
    "fix, ax = plt.subplots(1,1)                                                                                                                                                                                                                                                                                                                                                                                                                                                  \n",
    "plt.plot(p, [ cover_gauss(ip, n, clevel) for ip in p], color=\"red\", linestyle=\"solid\")                                                                                                                                                                             \n",
    "plt.plot(p, [ cover_clopper(ip, n, clevel) for ip in p], color=\"blue\", linestyle=\"solid\")                                                                                                                                                                          \n",
    "plt.plot(p, [ clevel for ip in p ], color=\"black\", linestyle=\"dashed\")                                                                                                                                                                              \n",
    "plt.show()  "
   ]
  },
  {
   "cell_type": "markdown",
   "metadata": {},
   "source": [
    "Now you should play with different values for $n$.\n",
    "\n",
    "It turns out that for low values ($\\sim<150$) the coverage at high p drops below the nominal, which should instead guaranteed to not happen.\n",
    "\n",
    "If you have R installed in your system, you can now run the notebook [coverageTestBinomial_R.ipynb](coverageTestBinomial_R.ipynb).\n",
    "\n",
    "The notebook shows that an analogous implementation in R does not exhibit the same problem. I suspect the issue might be due to return values for the pmf of the binomial in the python implementation, but haven't debugged this.\n",
    "\n",
    "To be able to run R code within jupyter, you must have installed the package `IRkernel` in your R installation (either with `IRkernel::installspec()` or with `install.packages(\"IRkernel\")`, or via your distribution. NOT in RStudio."
   ]
  },
  {
   "cell_type": "code",
   "execution_count": null,
   "metadata": {},
   "outputs": [],
   "source": []
  }
 ],
 "metadata": {
  "kernelspec": {
   "display_name": "Python 3",
   "language": "python",
   "name": "python3"
  },
  "language_info": {
   "codemirror_mode": {
    "name": "ipython",
    "version": 3
   },
   "file_extension": ".py",
   "mimetype": "text/x-python",
   "name": "python",
   "nbconvert_exporter": "python",
   "pygments_lexer": "ipython3",
   "version": "3.8.6"
  }
 },
 "nbformat": 4,
 "nbformat_minor": 2
}
