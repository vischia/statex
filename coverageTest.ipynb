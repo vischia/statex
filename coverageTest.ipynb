{
 "cells": [
  {
   "cell_type": "code",
   "execution_count": 1,
   "metadata": {},
   "outputs": [],
   "source": [
    "import os                                                                                                                                                                                       \n",
    "import sys                                                                                                                                                                                      \n",
    "import numpy as np                                                                                                                                                                              \n",
    "import scipy.stats as ss                                                                                                                                                                        \n",
    "import matplotlib.pyplot as plt                                                                                                                                                                 \n",
    "from math import sqrt                                                                                                                                                                           \n",
    "#from statsmodels.stats.proportion import proportion_confint                                                                                                                                     \n",
    "from itertools import zip_longest                                                                                                                                                               \n",
    "from scipy.optimize import bisect, root                                                                                                                                                         \n",
    "                      \n",
    "                         \n",
    "# Functions in python and in R\n",
    "# R qnorm = python .ppf()                                                                                                                                                                       \n",
    "# R pnorm = python .cdf()                                                                                                                                                                       \n",
    "# R dnorm = python .pmf() (I think)                                                                                                                                                             \n",
    "                         "
   ]
  },
  {
   "cell_type": "markdown",
   "metadata": {},
   "source": [
    "Let's define the number of our experiments, and the desired confidence level"
   ]
  },
  {
   "cell_type": "code",
   "execution_count": 2,
   "metadata": {},
   "outputs": [],
   "source": [
    "n=20                                                                                                                                                                                            \n",
    "conf_level=0.95                                                                                                                                                                                 \n",
    "       "
   ]
  },
  {
   "cell_type": "markdown",
   "metadata": {},
   "source": [
    "Now we define the function that computes coverage in the Gaussian approximation"
   ]
  },
  {
   "cell_type": "code",
   "execution_count": 3,
   "metadata": {},
   "outputs": [
    {
     "name": "stdout",
     "output_type": "stream",
     "text": [
      "0.928019119328061\n"
     ]
    }
   ],
   "source": [
    "                                                                                                                                                                                               \n",
    "def cover_gauss(p):                                                                                                                                                                             \n",
    "    if not (0 <= p and p <= 1):                                                                                                                                                                 \n",
    "        sys.exit()                                                                                                                                                                              \n",
    "    x = np.array(range(0, n))                                                                                                                                                                   \n",
    "    fpx = ss.binom.pmf(x, n, p)                                                                                                                                                                 \n",
    "    phat = x / n                                                                                                                                                                                \n",
    "    crit_val = ss.norm.ppf((1 + conf_level) / 2)                                                                                                                                                \n",
    "    low = [iphat - crit_val * sqrt(iphat * (1 - iphat) / n) for iphat in phat]                                                                                                                  \n",
    "    hig = [iphat + crit_val * sqrt(iphat * (1 - iphat) / n) for iphat in phat]                                                                                                                  \n",
    "    inies = [ int(ilow <= p and p <= ihig) for ilow, ihig in zip_longest(low, hig) ]                                                                                                            \n",
    "    return sum(inies * fpx)                                                                                                                                                                     \n",
    "\n",
    "# Let's just test it\n",
    "print(cover_gauss(0.6))                                                                                                                                                                         \n",
    "               "
   ]
  },
  {
   "cell_type": "markdown",
   "metadata": {},
   "source": [
    "...and the one that computes coverage with the Clopper-Pearson intervals"
   ]
  },
  {
   "cell_type": "code",
   "execution_count": 4,
   "metadata": {},
   "outputs": [],
   "source": [
    "def cover_clopper(p):                                                                                                                                                                                                                                   \n",
    "    if not (0 <= p and p <= 1):                                                                                                                                                                                                                         \n",
    "        sys.exit()                                                                                                                                                                                                                                      \n",
    "    x = np.array(range(0, n))                                                                                                                                                                                                                           \n",
    "    fpx = ss.binom.pmf(x, n, p)                                                                                                                                                                                                                                                                                                                                                                                                                           \n",
    "    #print(proportion_confint(np.array(range(0,n)), n, alpha=conf_level, method=\"beta\"))\n",
    "    # Initially I did this, horribly not working\n",
    "    #low = [ ss.beta.ppf(conf_level/2, ix, n-ix +1) for ix in x]                                                                                                                                                                                        \n",
    "    #hig = [ ss.beta.ppf(1-conf_level/2, ix+1, n-ix) for ix in x]                                                                                                                                                                                       \n",
    "\n",
    "    # This is the correct way, mimicking the R code below\n",
    "    # although it still has issues at large p\n",
    "    low = [ (ss.beta.ppf((1-conf_level)/2, ix, n-ix+1)   )  if ix != 0 else 0 for ix in x]                                                                                                                                                              \n",
    "    hig = [ (ss.beta.ppf(1-(1-conf_level)/2, ix+1, n-ix ))  if ix != n else 1 for ix in x]                                                                                                                                                              \n",
    "       \n",
    "    # The original R code from stats.binom.test\n",
    "    #    ## Determine p s.t. Prob(B(n,p) >= x) = alpha.                                                                                                                                                                                                 \n",
    "    #    ## Use that for x > 0,                                                                                                                                                                                                                         \n",
    "    #    ##   Prob(B(n,p) >= x) = pbeta(p, x, n - x + 1).                                                                                                                                                                                               \n",
    "    #    p.L <- function(x, alpha) {                                                                                                                                                                                                                    \n",
    "    #        if(x == 0)                      # No solution                                                                                                                                                                                              \n",
    "    #            0                                                                                                                                                                                                                                      \n",
    "    #        else                                                                                                                                                                                                                                       \n",
    "    #            qbeta(alpha, x, n - x + 1)                                                                                                                                                                                                             \n",
    "    #    }                                                                                                                                                                                                                                              \n",
    "    #    ## Determine p s.t. Prob(B(n,p) <= x) = alpha.                                                                                                                                                                                                 \n",
    "    #    ## Use that for x < n,                                                                                                                                                                                                                         \n",
    "    #    ##   Prob(B(n,p) <= x) = 1 - pbeta(p, x + 1, n - x).                                                                                                                                                                                           \n",
    "    #    p.U <- function(x, alpha) {                                                                                                                                                                                                                    \n",
    "    #        if(x == n)                      # No solution                                                                                                                                                                                              \n",
    "    #            1                                                                                                                                                                                                                                      \n",
    "    #        else                                                                                                                                                                                                                                       \n",
    "    #            qbeta(1 - alpha, x + 1, n - x)                                                                                                                                                                                                         \n",
    "    #}                                                                                                                                                                                                                                                  \n",
    "                                                                                                                                                                                                                                                        \n",
    "                                                                                                                                                                                                                                                                                                                                                                                                                                                                                             \n",
    "    inies = [ int(ilow <= p and p <= ihig) for ilow, ihig in zip_longest(low, hig) ]                                                                                                                                                                    \n",
    "                                                                                                                                                                                                                                        \n",
    "    return sum(inies * fpx)                                                                                                                                                                                                                             \n",
    "                           \n",
    "    # Let's test it\n",
    "    print(cover_clopper(0.6))"
   ]
  },
  {
   "cell_type": "markdown",
   "metadata": {},
   "source": [
    "OK, now produce the coverage plot"
   ]
  },
  {
   "cell_type": "code",
   "execution_count": 7,
   "metadata": {},
   "outputs": [
    {
     "data": {
      "image/png": "[encoded data removed]",
      "text/plain": [
       "<Figure size 432x288 with 1 Axes>"
      ]
     },
     "metadata": {
      "needs_background": "light"
     },
     "output_type": "display_data"
    }
   ],
   "source": [
    "p= np.array(np.arange(0.001, 0.999, 0.001)) \n",
    "                                                                                                                                                                                                                                                       \n",
    "fix, ax = plt.subplots(1,1)                                                                                                                                                                                                                                                                                                                                                                                                                                                  \n",
    "plt.plot(p, [ cover_gauss(ip) for ip in p], color=\"red\", linestyle=\"solid\")                                                                                                                                                                             \n",
    "plt.plot(p, [ cover_clopper(ip) for ip in p], color=\"blue\", linestyle=\"solid\")                                                                                                                                                                          \n",
    "plt.plot(p, [ conf_level for ip in p ], color=\"black\", linestyle=\"dashed\")                                                                                                                                                                              \n",
    "plt.show()  "
   ]
  },
  {
   "cell_type": "code",
   "execution_count": null,
   "metadata": {},
   "outputs": [],
   "source": []
  }
 ],
 "metadata": {
  "kernelspec": {
   "display_name": "Python 3",
   "language": "python",
   "name": "python3"
  },
  "language_info": {
   "codemirror_mode": {
    "name": "ipython",
    "version": 3
   },
   "file_extension": ".py",
   "mimetype": "text/x-python",
   "name": "python",
   "nbconvert_exporter": "python",
   "pygments_lexer": "ipython3",
   "version": "3.7.3"
  }
 },
 "nbformat": 4,
 "nbformat_minor": 2
}
