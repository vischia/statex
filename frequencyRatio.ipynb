{
 "cells": [
  {
   "cell_type": "code",
   "execution_count": 1,
   "metadata": {},
   "outputs": [],
   "source": [
    "# Copyright (c) 2020, Pietro Vischia pietro.vischia@cern.ch\n",
    "\n",
    "import random\n",
    "from matplotlib import pyplot as plt\n"
   ]
  },
  {
   "cell_type": "code",
   "execution_count": 2,
   "metadata": {},
   "outputs": [],
   "source": [
    "# Simulate the roll of a die\n",
    "\n",
    "def die_roll():\n",
    "    roll = random.randint(1,6) \n",
    "    return roll\n",
    "\n",
    "# Check if a given roll is even or odd\n",
    "\n",
    "def is_even(roll):\n",
    "    if (roll % 2) == 0:\n",
    "        return True\n",
    "    else:\n",
    "        return False\n"
   ]
  },
  {
   "cell_type": "code",
   "execution_count": 5,
   "metadata": {},
   "outputs": [
    {
     "name": "stdout",
     "output_type": "stream",
     "text": [
      "[1, 5, 10, 20, 30, 40, 50, 60, 80, 90, 100, 130, 160, 180, 200, 400, 500, 750, 1000, 2000, 3000, 5000, 10000, 50000, 100000]\n",
      "[0, 0, 0, 0, 0, 0, 0, 0, 0, 0, 0, 0, 0, 0, 0, 0, 0, 0, 0, 0, 0, 0, 0, 0, 0]\n"
     ]
    },
    {
     "data": {
      "image/png": "[encoded data removed]",
      "text/plain": [
       "<Figure size 432x288 with 1 Axes>"
      ]
     },
     "metadata": {
      "needs_background": "light"
     },
     "output_type": "display_data"
    }
   ],
   "source": [
    "# Define number of experiments\n",
    "\n",
    "N = [1, 5, 10, 20, 30, 40, 50, 60, 80, 90, 100, 130, 160, 180, 200, 400, 500, 750, 1000, 2000, 3000, 5000, 10000, 50000, 100000]\n",
    "\n",
    "freqs = [ 0 for n in N ]\n",
    "\n",
    "print(N)\n",
    "print(freqs)\n",
    "\n",
    "for n in range(len(N)):\n",
    "    # For each set of experiments, throw the die n times\n",
    "    n_even=0\n",
    "    for n_i in range(N[n]):\n",
    "        if is_even(die_roll()):\n",
    "            n_even +=1\n",
    "    freqs[n] = n_even/N[n]\n",
    "\n",
    "# Plot the results\n",
    "plt.plot(N,freqs)\n",
    "plt.xlabel('Number of experiments')\n",
    "plt.xscale('log')\n",
    "plt.ylabel('Frequency of results ')\n",
    "\n",
    "plt.show()\n"
   ]
  },
  {
   "cell_type": "code",
   "execution_count": null,
   "metadata": {},
   "outputs": [],
   "source": [
    "\n",
    "\n"
   ]
  }
 ],
 "metadata": {
  "kernelspec": {
   "display_name": "Python 3",
   "language": "python",
   "name": "python3"
  },
  "language_info": {
   "codemirror_mode": {
    "name": "ipython",
    "version": 3
   },
   "file_extension": ".py",
   "mimetype": "text/x-python",
   "name": "python",
   "nbconvert_exporter": "python",
   "pygments_lexer": "ipython3",
   "version": "3.7.7"
  }
 },
 "nbformat": 4,
 "nbformat_minor": 4
}
