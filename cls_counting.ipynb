{
 "cells": [
  {
   "cell_type": "markdown",
   "metadata": {},
   "source": [
    "# CL_s\n",
    "\n",
    "Adapted from the pyhf starting tutorial (added plots, scans, etc)"
   ]
  },
  {
   "cell_type": "markdown",
   "metadata": {},
   "source": [
    "Two bin counting experiment with a background uncertainty"
   ]
  },
  {
   "cell_type": "code",
   "execution_count": 1,
   "metadata": {},
   "outputs": [],
   "source": [
    "import pyhf\n",
    "import matplotlib.pyplot as plt\n",
    "import numpy as np\n",
    "%matplotlib inline\n"
   ]
  },
  {
   "cell_type": "markdown",
   "metadata": {},
   "source": [
    "Returning the observed and expected $\\mathrm{CL}_{s}$"
   ]
  },
  {
   "cell_type": "code",
   "execution_count": 2,
   "metadata": {
    "scrolled": true
   },
   "outputs": [
    {
     "name": "stdout",
     "output_type": "stream",
     "text": [
      "Observed: [0.05290116], Expected: [0.06445521]\n"
     ]
    }
   ],
   "source": [
    "pdf = pyhf.simplemodels.hepdata_like(signal_data=[12.0, 11.0], bkg_data=[50.0, 52.0], bkg_uncerts=[3.0, 7.0])\n",
    "CLs_obs, CLs_exp = pyhf.utils.hypotest(1.0, [51, 48] + pdf.config.auxdata, pdf, return_expected=True)\n",
    "#  pyhf.utils.hypotest(poi_test, data, pdf, init_pars=None, par_bounds=None, qtilde=False, **kwargs)[source]\n",
    "print('Observed: {}, Expected: {}'.format(CLs_obs, CLs_exp))"
   ]
  },
  {
   "cell_type": "markdown",
   "metadata": {},
   "source": [
    "Make a few tries!\n",
    "\n",
    "- Turn off uncertainties\n",
    "- Play with the expected signal and background yields\n",
    "- Play with the observed data yields\n",
    "- Plot observed and expected as a function of these"
   ]
  },
  {
   "cell_type": "code",
   "execution_count": 4,
   "metadata": {},
   "outputs": [
    {
     "data": {
      "text/plain": [
       "[<matplotlib.lines.Line2D at 0x7f5d9e116748>]"
      ]
     },
     "execution_count": 4,
     "metadata": {},
     "output_type": "execute_result"
    },
    {
     "data": {
      "image/png": "[encoded data removed]",
      "text/plain": [
       "<Figure size 432x288 with 1 Axes>"
      ]
     },
     "metadata": {
      "needs_background": "light"
     },
     "output_type": "display_data"
    }
   ],
   "source": [
    "# For example...\n",
    "\n",
    "CLs_obs=[]\n",
    "CLs_exp=[]\n",
    "fix, ax = plt.subplots(1,1)\n",
    "for obs_data in [ [45, 40], [51, 48], [60, 55], [70, 65]   ]:\n",
    "    pdf = pyhf.simplemodels.hepdata_like(signal_data=[12.0, 11.0], bkg_data=[50.0, 52.0], bkg_uncerts=[3.0, 7.0])\n",
    "    iCLs_obs, iCLs_exp = pyhf.utils.hypotest(1.0, obs_data + pdf.config.auxdata, pdf, return_expected=True)\n",
    "    CLs_obs.extend(iCLs_obs)\n",
    "    CLs_exp.extend(iCLs_exp)\n",
    "\n",
    "plt.plot(list(range(0,len(CLs_obs))), CLs_obs, color=\"red\", linestyle=\"solid\")\n",
    "plt.plot(list(range(0,len(CLs_exp))), CLs_exp, color=\"black\", linestyle=\"solid\")"
   ]
  },
  {
   "cell_type": "markdown",
   "metadata": {},
   "source": [
    "Returning the observed $\\mathrm{CL}_{s}$, $\\mathrm{CL}_{s+b}$, **and** $\\mathrm{CL}_{b}$"
   ]
  },
  {
   "cell_type": "code",
   "execution_count": 5,
   "metadata": {},
   "outputs": [
    {
     "name": "stdout",
     "output_type": "stream",
     "text": [
      "Observed CL_s: [0.05290116], CL_sb: [0.0236], CL_b: [0.44611493]\n"
     ]
    }
   ],
   "source": [
    "CLs_obs, p_values = pyhf.utils.hypotest(1.0, [51, 48] + pdf.config.auxdata, pdf, return_tail_probs=True)\n",
    "print('Observed CL_s: {}, CL_sb: {}, CL_b: {}'.format(CLs_obs, p_values[0], p_values[1]))"
   ]
  },
  {
   "cell_type": "markdown",
   "metadata": {},
   "source": [
    "A reminder that \n",
    "$$\n",
    "\\mathrm{CL}_{s} = \\frac{\\mathrm{CL}_{s+b}}{\\mathrm{CL}_{b}} = \\frac{p_{s+b}}{1-p_{b}}\n",
    "$$"
   ]
  },
  {
   "cell_type": "markdown",
   "metadata": {},
   "source": [
    "Exercise: for the different tests you did above, plot CL_s, CL_sb, and CL_b"
   ]
  },
  {
   "cell_type": "code",
   "execution_count": 6,
   "metadata": {},
   "outputs": [
    {
     "data": {
      "text/plain": [
       "[<matplotlib.lines.Line2D at 0x7f5d9e086ef0>]"
      ]
     },
     "execution_count": 6,
     "metadata": {},
     "output_type": "execute_result"
    },
    {
     "data": {
      "image/png": "[encoded data removed]",
      "text/plain": [
       "<Figure size 432x288 with 1 Axes>"
      ]
     },
     "metadata": {
      "needs_background": "light"
     },
     "output_type": "display_data"
    }
   ],
   "source": [
    "# For example...\n",
    "\n",
    "CLs=[]\n",
    "CLsb=[]\n",
    "CLb=[]\n",
    "fix, ax = plt.subplots(1,1)\n",
    "for signal_data in [ [1.0, 0.5], [5.0, 4.8], [12.0, 11.0], [13.0, 12.0], [20.0, 17.0]   ]:\n",
    "    pdf = pyhf.simplemodels.hepdata_like(signal_data=signal_data, bkg_data=[50.0, 52.0], bkg_uncerts=[3.0, 7.0])\n",
    "    iCLs_obs, ip_values = pyhf.utils.hypotest(1.0, [51, 48] + pdf.config.auxdata, pdf, return_tail_probs=True)\n",
    "    CLs.extend(iCLs_obs)\n",
    "    CLsb.extend(ip_values[0])\n",
    "    CLb.extend(ip_values[1])\n",
    "\n",
    "plt.plot(list(range(0,len(CLs))), CLs, color=\"red\", linestyle=\"solid\")\n",
    "plt.plot(list(range(0,len(CLsb))), CLsb, color=\"black\", linestyle=\"solid\")\n",
    "plt.plot(list(range(0,len(CLb))), CLb, color=\"blue\", linestyle=\"solid\")"
   ]
  },
  {
   "cell_type": "code",
   "execution_count": 7,
   "metadata": {},
   "outputs": [],
   "source": [
    "assert CLs_obs == p_values[0]/p_values[1]"
   ]
  },
  {
   "cell_type": "markdown",
   "metadata": {},
   "source": [
    "Returning the expected $\\mathrm{CL}_{s}$ band values"
   ]
  },
  {
   "cell_type": "code",
   "execution_count": 8,
   "metadata": {},
   "outputs": [],
   "source": [
    "import numpy as np"
   ]
  },
  {
   "cell_type": "code",
   "execution_count": 9,
   "metadata": {
    "scrolled": true
   },
   "outputs": [
    {
     "name": "stdout",
     "output_type": "stream",
     "text": [
      "Observed CL_s: [0.00245939]\n",
      "\n",
      "0\n",
      "Expected CL_s(-2 σ): [1.78750052e-05]\n",
      "1\n",
      "Expected CL_s(-1 σ): [0.00026533]\n",
      "2\n",
      "Expected CL_s      : [0.0033663]\n",
      "3\n",
      "Expected CL_s(1 σ): [0.03170025]\n",
      "4\n",
      "Expected CL_s(2 σ): [0.17971959]\n"
     ]
    }
   ],
   "source": [
    "CLs_obs, CLs_exp_band = pyhf.utils.hypotest(1.0, [51, 48] + pdf.config.auxdata, pdf, return_expected_set=True)\n",
    "print('Observed CL_s: {}\\n'.format(CLs_obs))\n",
    "for p_value, n_sigma in enumerate(np.arange(-2,3)):\n",
    "    print(p_value)\n",
    "    print('Expected CL_s{}: {}'.format('      ' if n_sigma==0 else '({} σ)'.format(n_sigma),CLs_exp_band[p_value]))"
   ]
  },
  {
   "cell_type": "markdown",
   "metadata": {},
   "source": [
    "Exercise: plot the evolution of the bands for increasing/decreasing background uncertainty (brazilian plot)"
   ]
  },
  {
   "cell_type": "code",
   "execution_count": 11,
   "metadata": {},
   "outputs": [
    {
     "data": {
      "text/plain": [
       "[<matplotlib.lines.Line2D at 0x7f5d9df817b8>]"
      ]
     },
     "execution_count": 11,
     "metadata": {},
     "output_type": "execute_result"
    },
    {
     "data": {
      "image/png": "[encoded data removed]",
      "text/plain": [
       "<Figure size 432x288 with 1 Axes>"
      ]
     },
     "metadata": {
      "needs_background": "light"
     },
     "output_type": "display_data"
    }
   ],
   "source": [
    "# For example...\n",
    "\n",
    "obs=[]\n",
    "exp=[]\n",
    "exp_m1s=[]\n",
    "exp_p1s=[]\n",
    "exp_m2s=[]\n",
    "exp_p2s=[]\n",
    "fix, ax = plt.subplots(1,1)\n",
    "for bkg_uncerts in [ [0.03, 0.01], [1.0, 4.8], [3.0, 7.0], [5, 1.0], [10.0, 20.0]   ]:\n",
    "    pdf = pyhf.simplemodels.hepdata_like(signal_data=[12.0, 11.0], bkg_data=[50.0, 52.0], bkg_uncerts=bkg_uncerts)\n",
    "    iCLs_obs, iCLs_exp_band = pyhf.utils.hypotest(1.0, [51, 48] + pdf.config.auxdata, pdf, return_expected_set=True)\n",
    "    obs.extend(iCLs_obs)\n",
    "    exp.extend(iCLs_exp_band[2])\n",
    "    exp_m1s.extend(iCLs_exp_band[1])\n",
    "    exp_p1s.extend(iCLs_exp_band[3])\n",
    "    exp_m2s.extend(iCLs_exp_band[0])\n",
    "    exp_p2s.extend(iCLs_exp_band[4])\n",
    "\n",
    "plt.plot(list(range(0,len(obs))), obs, color=\"red\", linestyle=\"dashed\")\n",
    "plt.plot(list(range(0,len(exp))), exp, color=\"black\", linestyle=\"solid\")\n",
    "plt.plot(list(range(0,len(exp_m1s))), exp_m1s, color=\"yellow\", linestyle=\"solid\")\n",
    "plt.plot(list(range(0,len(exp_p1s))), exp_p1s, color=\"yellow\", linestyle=\"solid\")\n",
    "plt.plot(list(range(0,len(exp_m2s))), exp_m2s, color=\"green\", linestyle=\"solid\")\n",
    "plt.plot(list(range(0,len(exp_p2s))), exp_p2s, color=\"green\", linestyle=\"solid\")"
   ]
  },
  {
   "cell_type": "markdown",
   "metadata": {},
   "source": [
    "**Returning the test statistics for the observed and Asimov data**"
   ]
  },
  {
   "cell_type": "code",
   "execution_count": 38,
   "metadata": {},
   "outputs": [
    {
     "name": "stdout",
     "output_type": "stream",
     "text": [
      "q_mu: [1.38316876], Asimov q_mu: [1.31798997]\n"
     ]
    }
   ],
   "source": [
    "CLs_obs, test_statistics = pyhf.utils.hypotest(1.0, [51, 48] + pdf.config.auxdata, pdf, return_test_statistics=True)\n",
    "print('q_mu: {}, Asimov q_mu: {}'.format(test_statistics[0], test_statistics[1]))"
   ]
  },
  {
   "cell_type": "code",
   "execution_count": null,
   "metadata": {},
   "outputs": [],
   "source": []
  }
 ],
 "metadata": {
  "kernelspec": {
   "display_name": "Python 3",
   "language": "python",
   "name": "python3"
  },
  "language_info": {
   "codemirror_mode": {
    "name": "ipython",
    "version": 3
   },
   "file_extension": ".py",
   "mimetype": "text/x-python",
   "name": "python",
   "nbconvert_exporter": "python",
   "pygments_lexer": "ipython3",
   "version": "3.7.3"
  }
 },
 "nbformat": 4,
 "nbformat_minor": 2
}
